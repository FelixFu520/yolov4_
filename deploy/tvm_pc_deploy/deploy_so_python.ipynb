{
 "cells": [
  {
   "cell_type": "markdown",
   "metadata": {},
   "source": [
    "## 使用python部署so文件"
   ]
  },
  {
   "cell_type": "markdown",
   "metadata": {},
   "source": [
    "### 1.导包"
   ]
  },
  {
   "cell_type": "code",
   "execution_count": 1,
   "metadata": {},
   "outputs": [],
   "source": [
    "# 使用python部署*.so文件\n",
    "import onnx\n",
    "import time\n",
    "import tvm\n",
    "import numpy as np\n",
    "import tvm.relay as relay\n",
    "from PIL import Image\n",
    "from tvm.contrib import graph_runtime\n",
    "\n"
   ]
  },
  {
   "cell_type": "markdown",
   "metadata": {},
   "source": [
    "### 2.Load a test image"
   ]
  },
  {
   "cell_type": "code",
   "execution_count": 2,
   "metadata": {},
   "outputs": [],
   "source": [
    "# ------------ load image\n",
    "# img = Image.open(\"street.jpg\")\n",
    "img = Image.open(\"test.png\")\n",
    "img = img.resize((416, 416))\n",
    "img = np.array(img, dtype = np.float32)\n",
    "img /= 255.0\n",
    "img = img.transpose((2, 0, 1))\n",
    "img = np.expand_dims(img, axis=0)"
   ]
  },
  {
   "cell_type": "markdown",
   "metadata": {},
   "source": [
    "### 3.load model"
   ]
  },
  {
   "cell_type": "code",
   "execution_count": 3,
   "metadata": {},
   "outputs": [
    {
     "name": "stdout",
     "output_type": "stream",
     "text": [
      "<class 'numpy.ndarray'>\n",
      "[ 1.7110772   0.10599595  0.12194884 -0.42449266 -1.4188616   0.64269596\n",
      "  0.32359695 -0.0385932  -1.0393591   0.37409925  0.1668087   0.81054145\n",
      " -2.1574116 ]\n"
     ]
    }
   ],
   "source": [
    "\n",
    "libpath = \"../models/yolov4_pc.so\"\n",
    "graph_json_path = \"../models/yolov4_pc.json\"\n",
    "param_path = \"../models/yolov4_pc.params\"\n",
    "\n",
    "# 接下来我们加载导出的模型去测试导出的模型是否可以正常工作\n",
    "loaded_json = open(graph_json_path).read()\n",
    "loaded_lib = tvm.runtime.load_module(libpath)\n",
    "loaded_params = bytearray(open(param_path, \"rb\").read())\n",
    "\n",
    "# 这里执行的平台为CPU\n",
    "ctx = tvm.cpu()\n",
    "\n",
    "\n",
    "module = graph_runtime.create(loaded_json, loaded_lib, ctx)\n",
    "module.load_params(loaded_params)\n",
    "module.set_input(\"input_0\", img)\n",
    "module.run()\n",
    "out_deploy = module.get_output(0).asnumpy()\n",
    "print(type(out_deploy))\n",
    "print(out_deploy[0][0][0])\n"
   ]
  },
  {
   "cell_type": "code",
   "execution_count": 6,
   "metadata": {},
   "outputs": [
    {
     "name": "stdout",
     "output_type": "stream",
     "text": [
      "Time elapsed is 0m 38s\n"
     ]
    }
   ],
   "source": [
    "# 输出tvm运行的时间\n",
    "since = time.time()\n",
    "for i in range(100):\n",
    "    module.run()\n",
    "time_elapsed = time.time() - since\n",
    "print('Time elapsed is {:.0f}m {:.0f}s'.format(time_elapsed // 60, time_elapsed % 60))"
   ]
  },
  {
   "cell_type": "code",
   "execution_count": null,
   "metadata": {},
   "outputs": [],
   "source": []
  }
 ],
 "metadata": {
  "kernelspec": {
   "display_name": "Python 3",
   "language": "python",
   "name": "python3"
  },
  "language_info": {
   "codemirror_mode": {
    "name": "ipython",
    "version": 3
   },
   "file_extension": ".py",
   "mimetype": "text/x-python",
   "name": "python",
   "nbconvert_exporter": "python",
   "pygments_lexer": "ipython3",
   "version": "3.6.9"
  }
 },
 "nbformat": 4,
 "nbformat_minor": 4
}
