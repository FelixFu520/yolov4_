{
 "cells": [
  {
   "cell_type": "markdown",
   "metadata": {},
   "source": [
    "# ONNX to TVM"
   ]
  },
  {
   "cell_type": "code",
   "execution_count": 1,
   "metadata": {},
   "outputs": [],
   "source": [
    "# 导入onnx，转换成*.so动态库\n",
    "import onnx\n",
    "import time\n",
    "import tvm\n",
    "import numpy as np\n",
    "import tvm.relay as relay\n",
    "from PIL import Image"
   ]
  },
  {
   "cell_type": "code",
   "execution_count": 2,
   "metadata": {},
   "outputs": [
    {
     "ename": "OpNotImplemented",
     "evalue": "The following operators are not supported for frontend ONNX: Softplus",
     "output_type": "error",
     "traceback": [
      "\u001b[0;31m---------------------------------------------------------------------------\u001b[0m",
      "\u001b[0;31mOpNotImplemented\u001b[0m                          Traceback (most recent call last)",
      "\u001b[0;32m<ipython-input-2-4fbc9b21ba7b>\u001b[0m in \u001b[0;36m<module>\u001b[0;34m\u001b[0m\n\u001b[1;32m     19\u001b[0m \u001b[0mshape_dict\u001b[0m \u001b[0;34m=\u001b[0m \u001b[0;34m{\u001b[0m\u001b[0minput_name\u001b[0m\u001b[0;34m:\u001b[0m \u001b[0mimg\u001b[0m\u001b[0;34m.\u001b[0m\u001b[0mshape\u001b[0m\u001b[0;34m}\u001b[0m\u001b[0;34m\u001b[0m\u001b[0;34m\u001b[0m\u001b[0m\n\u001b[1;32m     20\u001b[0m \u001b[0;31m# 利用Relay中的onnx前端读取我们导出的onnx模型\u001b[0m\u001b[0;34m\u001b[0m\u001b[0;34m\u001b[0m\u001b[0;34m\u001b[0m\u001b[0m\n\u001b[0;32m---> 21\u001b[0;31m \u001b[0msym\u001b[0m\u001b[0;34m,\u001b[0m \u001b[0mparams\u001b[0m \u001b[0;34m=\u001b[0m \u001b[0mrelay\u001b[0m\u001b[0;34m.\u001b[0m\u001b[0mfrontend\u001b[0m\u001b[0;34m.\u001b[0m\u001b[0mfrom_onnx\u001b[0m\u001b[0;34m(\u001b[0m\u001b[0monnx_model\u001b[0m\u001b[0;34m,\u001b[0m \u001b[0mshape_dict\u001b[0m\u001b[0;34m)\u001b[0m\u001b[0;34m\u001b[0m\u001b[0;34m\u001b[0m\u001b[0m\n\u001b[0m\u001b[1;32m     22\u001b[0m \u001b[0;34m\u001b[0m\u001b[0m\n\u001b[1;32m     23\u001b[0m \u001b[0;31m# 这里利用TVM构建出优化后模型的信息\u001b[0m\u001b[0;34m\u001b[0m\u001b[0;34m\u001b[0m\u001b[0;34m\u001b[0m\u001b[0m\n",
      "\u001b[0;32m~/tvm/python/tvm/relay/frontend/onnx.py\u001b[0m in \u001b[0;36mfrom_onnx\u001b[0;34m(model, shape, dtype, opset, freeze_params)\u001b[0m\n\u001b[1;32m   2746\u001b[0m     \u001b[0;31m# Use the graph proto as a scope so that ops can access other nodes if needed.\u001b[0m\u001b[0;34m\u001b[0m\u001b[0;34m\u001b[0m\u001b[0;34m\u001b[0m\u001b[0m\n\u001b[1;32m   2747\u001b[0m     \u001b[0;32mwith\u001b[0m \u001b[0mg\u001b[0m\u001b[0;34m:\u001b[0m\u001b[0;34m\u001b[0m\u001b[0;34m\u001b[0m\u001b[0m\n\u001b[0;32m-> 2748\u001b[0;31m         \u001b[0mmod\u001b[0m\u001b[0;34m,\u001b[0m \u001b[0mparams\u001b[0m \u001b[0;34m=\u001b[0m \u001b[0mg\u001b[0m\u001b[0;34m.\u001b[0m\u001b[0mfrom_onnx\u001b[0m\u001b[0;34m(\u001b[0m\u001b[0mgraph\u001b[0m\u001b[0;34m,\u001b[0m \u001b[0mopset\u001b[0m\u001b[0;34m,\u001b[0m \u001b[0mfreeze_params\u001b[0m\u001b[0;34m)\u001b[0m\u001b[0;34m\u001b[0m\u001b[0;34m\u001b[0m\u001b[0m\n\u001b[0m\u001b[1;32m   2749\u001b[0m     \u001b[0;32mreturn\u001b[0m \u001b[0mmod\u001b[0m\u001b[0;34m,\u001b[0m \u001b[0mparams\u001b[0m\u001b[0;34m\u001b[0m\u001b[0;34m\u001b[0m\u001b[0m\n",
      "\u001b[0;32m~/tvm/python/tvm/relay/frontend/onnx.py\u001b[0m in \u001b[0;36mfrom_onnx\u001b[0;34m(self, graph, opset, freeze_params, get_output_expr)\u001b[0m\n\u001b[1;32m   2527\u001b[0m             \u001b[0mmsg\u001b[0m \u001b[0;34m=\u001b[0m \u001b[0;34m\"The following operators are not supported for frontend ONNX: \"\u001b[0m\u001b[0;34m\u001b[0m\u001b[0;34m\u001b[0m\u001b[0m\n\u001b[1;32m   2528\u001b[0m             \u001b[0mmsg\u001b[0m \u001b[0;34m+=\u001b[0m \u001b[0;34m\", \"\u001b[0m\u001b[0;34m.\u001b[0m\u001b[0mjoin\u001b[0m\u001b[0;34m(\u001b[0m\u001b[0munsupported_ops\u001b[0m\u001b[0;34m)\u001b[0m\u001b[0;34m\u001b[0m\u001b[0;34m\u001b[0m\u001b[0m\n\u001b[0;32m-> 2529\u001b[0;31m             \u001b[0;32mraise\u001b[0m \u001b[0mtvm\u001b[0m\u001b[0;34m.\u001b[0m\u001b[0merror\u001b[0m\u001b[0;34m.\u001b[0m\u001b[0mOpNotImplemented\u001b[0m\u001b[0;34m(\u001b[0m\u001b[0mmsg\u001b[0m\u001b[0;34m)\u001b[0m\u001b[0;34m\u001b[0m\u001b[0;34m\u001b[0m\u001b[0m\n\u001b[0m\u001b[1;32m   2530\u001b[0m         \u001b[0;31m# construct nodes, nodes are stored as directed acyclic graph\u001b[0m\u001b[0;34m\u001b[0m\u001b[0;34m\u001b[0m\u001b[0;34m\u001b[0m\u001b[0m\n\u001b[1;32m   2531\u001b[0m         \u001b[0;32mfor\u001b[0m \u001b[0mnode\u001b[0m \u001b[0;32min\u001b[0m \u001b[0mgraph\u001b[0m\u001b[0;34m.\u001b[0m\u001b[0mnode\u001b[0m\u001b[0;34m:\u001b[0m\u001b[0;34m\u001b[0m\u001b[0;34m\u001b[0m\u001b[0m\n",
      "\u001b[0;31mOpNotImplemented\u001b[0m: The following operators are not supported for frontend ONNX: Softplus"
     ]
    }
   ],
   "source": [
    "#开始同样是读取.onnx模型\n",
    "onnx_model = onnx.load('../models/yolov4.onnx')  # 导入模型\n",
    "\n",
    "img = Image.open(\"street.jpg\")\n",
    "img = img.resize((416, 416))\n",
    "img = np.array(img, dtype=np.float32)\n",
    "img /= 255.0\n",
    "img = img.transpose((2, 0, 1))\n",
    "img = np.expand_dims(img, axis=0)\n",
    "\n",
    "# 这里首先在PC的CPU上进行测试 所以使用LLVM进行导出\n",
    "# target = tvm.target.create('llvm') # x86\n",
    "target = tvm.target.Target('llvm') # x86\n",
    "# target = tvm.target.arm_cpu(\"rasp3b\") # raspi\n",
    "# target = 'llvm'\n",
    "\n",
    "\n",
    "input_name = \"input_0\"  # 注意这里为之前导出onnx模型中的模型的输入id，这里为0\n",
    "shape_dict = {input_name: img.shape}\n",
    "# 利用Relay中的onnx前端读取我们导出的onnx模型\n",
    "sym, params = relay.frontend.from_onnx(onnx_model, shape_dict)\n",
    "\n",
    "# 这里利用TVM构建出优化后模型的信息\n",
    "with relay.build_config(opt_level=2):\n",
    "    graph, lib, params = relay.build_module.build(sym, target, params=params)\n",
    "    \n",
    "\n",
    "    \n",
    "dtype = 'float32'\n",
    "from tvm.contrib import graph_runtime\n",
    "\n",
    "# 下面的函数导出我们需要的动态链接库 地址可以自己定义\n",
    "print(\"Output model files\")\n",
    "libpath = \"../models/yolov4_pc.so\"\n",
    "lib.export_library(libpath)\n",
    "\n",
    "# 下面的函数导出我们神经网络的结构，使用json文件保存\n",
    "graph_json_path = \"../models/yolov4_pc.json\"\n",
    "with open(graph_json_path, 'w') as fo:\n",
    "    fo.write(graph)\n",
    "\n",
    "# 下面的函数中我们导出神经网络模型的权重参数\n",
    "param_path = \"../models/yolov4_pc.params\"\n",
    "with open(param_path, 'wb') as fo:\n",
    "    fo.write(relay.save_param_dict(params))\n",
    "# -------------至此导出模型阶段已经结束--------"
   ]
  }
 ],
 "metadata": {
  "kernelspec": {
   "display_name": "Python 3",
   "language": "python",
   "name": "python3"
  },
  "language_info": {
   "codemirror_mode": {
    "name": "ipython",
    "version": 3
   },
   "file_extension": ".py",
   "mimetype": "text/x-python",
   "name": "python",
   "nbconvert_exporter": "python",
   "pygments_lexer": "ipython3",
   "version": "3.6.9"
  }
 },
 "nbformat": 4,
 "nbformat_minor": 4
}
